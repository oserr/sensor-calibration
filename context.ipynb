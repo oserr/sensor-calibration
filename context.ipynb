{
 "cells": [
  {
   "cell_type": "code",
   "execution_count": 1,
   "metadata": {},
   "outputs": [
    {
     "name": "stderr",
     "output_type": "stream",
     "text": [
      "Using TensorFlow backend.\n"
     ]
    }
   ],
   "source": [
    "import pandas\n",
    "import numpy\n",
    "from os import path\n",
    "from sklearn.model_selection import StratifiedKFold\n",
    "from keras.layers import Conv2D, Conv1D, MaxPooling2D, GlobalAveragePooling2D\n",
    "from keras.layers import MaxPooling1D\n",
    "from keras.layers import Dropout, Flatten, Dense\n",
    "from keras.models import Sequential\n",
    "from keras import backend as K"
   ]
  },
  {
   "cell_type": "code",
   "execution_count": 2,
   "metadata": {},
   "outputs": [],
   "source": [
    "def get_data(datadir, expdir, expnum):\n",
    "    '''Creates data frames from a list of files.\n",
    "    \n",
    "    :param datadir\n",
    "        The data directory containing the expriment directories.\n",
    "    :param expdir\n",
    "        A list of expriment directories.\n",
    "    :param expnum\n",
    "        The number of expriment trials per experiment.\n",
    "    :return\n",
    "        A list of data frames.\n",
    "    '''\n",
    "    assert datadir, 'datadir must name a path'\n",
    "    assert expdir, 'expdir cannot be empty'\n",
    "    assert expnum > 0, 'expnum must be greater than zero'\n",
    "    dfs = []\n",
    "    for ed in expdir:\n",
    "        for n in range(1,expnum+1):\n",
    "            filename = '{}-{}.csv'.format(ed, n)\n",
    "            filepath = path.join(datadir, ed, filename)\n",
    "            df = pandas.read_csv(filepath)\n",
    "            dfs.append(df)\n",
    "    return dfs"
   ]
  },
  {
   "cell_type": "code",
   "execution_count": 3,
   "metadata": {},
   "outputs": [],
   "source": [
    "datadir = 'data/clean'\n",
    "experiment_dirs = ['exp1', 'exp2', 'exp3']\n",
    "experiment_trials = 5\n",
    "\n",
    "dfs = get_data(datadir, experiment_dirs, experiment_trials)\n",
    "df1 = dfs[0]"
   ]
  },
  {
   "cell_type": "code",
   "execution_count": 4,
   "metadata": {},
   "outputs": [
    {
     "name": "stdout",
     "output_type": "stream",
     "text": [
      "Index(['rx', 'ry', 'rz', 'ax', 'ay', 'az', 'mx', 'my', 'mz', 'apprx', 'appry',\n",
      "       'apprz', 'appax', 'appay', 'appaz', 'appmx', 'appmy', 'appmz',\n",
      "       'incontext', 'nocontext'],\n",
      "      dtype='object')\n"
     ]
    }
   ],
   "source": [
    "# The number of columns that will be the input for the neural net model\n",
    "num_cols = len(df1.columns) - 2\n",
    "\n",
    "# Look at the column\n",
    "print(df1.columns)"
   ]
  },
  {
   "cell_type": "code",
   "execution_count": 5,
   "metadata": {},
   "outputs": [
    {
     "data": {
      "text/html": [
       "<div>\n",
       "<style scoped>\n",
       "    .dataframe tbody tr th:only-of-type {\n",
       "        vertical-align: middle;\n",
       "    }\n",
       "\n",
       "    .dataframe tbody tr th {\n",
       "        vertical-align: top;\n",
       "    }\n",
       "\n",
       "    .dataframe thead th {\n",
       "        text-align: right;\n",
       "    }\n",
       "</style>\n",
       "<table border=\"1\" class=\"dataframe\">\n",
       "  <thead>\n",
       "    <tr style=\"text-align: right;\">\n",
       "      <th></th>\n",
       "      <th>rx</th>\n",
       "      <th>ry</th>\n",
       "      <th>rz</th>\n",
       "      <th>ax</th>\n",
       "      <th>ay</th>\n",
       "      <th>az</th>\n",
       "      <th>mx</th>\n",
       "      <th>my</th>\n",
       "      <th>mz</th>\n",
       "      <th>apprx</th>\n",
       "      <th>appry</th>\n",
       "      <th>apprz</th>\n",
       "      <th>appax</th>\n",
       "      <th>appay</th>\n",
       "      <th>appaz</th>\n",
       "      <th>appmx</th>\n",
       "      <th>appmy</th>\n",
       "      <th>appmz</th>\n",
       "      <th>incontext</th>\n",
       "      <th>nocontext</th>\n",
       "    </tr>\n",
       "  </thead>\n",
       "  <tbody>\n",
       "    <tr>\n",
       "      <th>0</th>\n",
       "      <td>-0.114776</td>\n",
       "      <td>0.439484</td>\n",
       "      <td>-0.700906</td>\n",
       "      <td>-0.694898</td>\n",
       "      <td>1.077169</td>\n",
       "      <td>1.150464</td>\n",
       "      <td>0.073693</td>\n",
       "      <td>1.636875</td>\n",
       "      <td>0.559617</td>\n",
       "      <td>-1.858940</td>\n",
       "      <td>2.150135</td>\n",
       "      <td>-0.256785</td>\n",
       "      <td>-0.729854</td>\n",
       "      <td>0.786804</td>\n",
       "      <td>-0.229297</td>\n",
       "      <td>-1.041701</td>\n",
       "      <td>0.488485</td>\n",
       "      <td>0.869405</td>\n",
       "      <td>1</td>\n",
       "      <td>0</td>\n",
       "    </tr>\n",
       "    <tr>\n",
       "      <th>1</th>\n",
       "      <td>-0.178055</td>\n",
       "      <td>0.136300</td>\n",
       "      <td>-0.702962</td>\n",
       "      <td>-1.150445</td>\n",
       "      <td>0.410662</td>\n",
       "      <td>0.727458</td>\n",
       "      <td>0.073693</td>\n",
       "      <td>1.636875</td>\n",
       "      <td>0.559617</td>\n",
       "      <td>-1.597529</td>\n",
       "      <td>2.224365</td>\n",
       "      <td>-0.488612</td>\n",
       "      <td>0.005991</td>\n",
       "      <td>1.434085</td>\n",
       "      <td>-0.007593</td>\n",
       "      <td>-1.046289</td>\n",
       "      <td>0.472745</td>\n",
       "      <td>0.862275</td>\n",
       "      <td>1</td>\n",
       "      <td>0</td>\n",
       "    </tr>\n",
       "    <tr>\n",
       "      <th>2</th>\n",
       "      <td>-0.058157</td>\n",
       "      <td>0.161305</td>\n",
       "      <td>-0.709129</td>\n",
       "      <td>-0.919738</td>\n",
       "      <td>0.436072</td>\n",
       "      <td>1.006316</td>\n",
       "      <td>0.001939</td>\n",
       "      <td>1.712917</td>\n",
       "      <td>0.227799</td>\n",
       "      <td>-1.446922</td>\n",
       "      <td>1.882911</td>\n",
       "      <td>-0.719377</td>\n",
       "      <td>0.667759</td>\n",
       "      <td>1.362472</td>\n",
       "      <td>-0.043567</td>\n",
       "      <td>-1.019131</td>\n",
       "      <td>0.478037</td>\n",
       "      <td>0.818819</td>\n",
       "      <td>1</td>\n",
       "      <td>0</td>\n",
       "    </tr>\n",
       "    <tr>\n",
       "      <th>3</th>\n",
       "      <td>-0.607691</td>\n",
       "      <td>-0.657604</td>\n",
       "      <td>-0.657735</td>\n",
       "      <td>-1.256180</td>\n",
       "      <td>1.065773</td>\n",
       "      <td>0.232592</td>\n",
       "      <td>0.001939</td>\n",
       "      <td>1.712917</td>\n",
       "      <td>0.227799</td>\n",
       "      <td>-1.059426</td>\n",
       "      <td>1.048598</td>\n",
       "      <td>-0.818543</td>\n",
       "      <td>1.110339</td>\n",
       "      <td>0.871966</td>\n",
       "      <td>-0.317667</td>\n",
       "      <td>-0.992060</td>\n",
       "      <td>0.462353</td>\n",
       "      <td>0.760988</td>\n",
       "      <td>1</td>\n",
       "      <td>0</td>\n",
       "    </tr>\n",
       "    <tr>\n",
       "      <th>4</th>\n",
       "      <td>-0.544411</td>\n",
       "      <td>-1.017048</td>\n",
       "      <td>-0.672639</td>\n",
       "      <td>-0.430083</td>\n",
       "      <td>0.144706</td>\n",
       "      <td>-0.634227</td>\n",
       "      <td>0.001939</td>\n",
       "      <td>1.712917</td>\n",
       "      <td>0.227799</td>\n",
       "      <td>-0.345418</td>\n",
       "      <td>0.132309</td>\n",
       "      <td>-0.549512</td>\n",
       "      <td>0.980732</td>\n",
       "      <td>0.227001</td>\n",
       "      <td>-0.785198</td>\n",
       "      <td>-1.010228</td>\n",
       "      <td>0.446591</td>\n",
       "      <td>0.739677</td>\n",
       "      <td>1</td>\n",
       "      <td>0</td>\n",
       "    </tr>\n",
       "  </tbody>\n",
       "</table>\n",
       "</div>"
      ],
      "text/plain": [
       "         rx        ry        rz        ax        ay        az        mx  \\\n",
       "0 -0.114776  0.439484 -0.700906 -0.694898  1.077169  1.150464  0.073693   \n",
       "1 -0.178055  0.136300 -0.702962 -1.150445  0.410662  0.727458  0.073693   \n",
       "2 -0.058157  0.161305 -0.709129 -0.919738  0.436072  1.006316  0.001939   \n",
       "3 -0.607691 -0.657604 -0.657735 -1.256180  1.065773  0.232592  0.001939   \n",
       "4 -0.544411 -1.017048 -0.672639 -0.430083  0.144706 -0.634227  0.001939   \n",
       "\n",
       "         my        mz     apprx     appry     apprz     appax     appay  \\\n",
       "0  1.636875  0.559617 -1.858940  2.150135 -0.256785 -0.729854  0.786804   \n",
       "1  1.636875  0.559617 -1.597529  2.224365 -0.488612  0.005991  1.434085   \n",
       "2  1.712917  0.227799 -1.446922  1.882911 -0.719377  0.667759  1.362472   \n",
       "3  1.712917  0.227799 -1.059426  1.048598 -0.818543  1.110339  0.871966   \n",
       "4  1.712917  0.227799 -0.345418  0.132309 -0.549512  0.980732  0.227001   \n",
       "\n",
       "      appaz     appmx     appmy     appmz  incontext  nocontext  \n",
       "0 -0.229297 -1.041701  0.488485  0.869405          1          0  \n",
       "1 -0.007593 -1.046289  0.472745  0.862275          1          0  \n",
       "2 -0.043567 -1.019131  0.478037  0.818819          1          0  \n",
       "3 -0.317667 -0.992060  0.462353  0.760988          1          0  \n",
       "4 -0.785198 -1.010228  0.446591  0.739677          1          0  "
      ]
     },
     "execution_count": 5,
     "metadata": {},
     "output_type": "execute_result"
    }
   ],
   "source": [
    "# Look at a small sample of the data\n",
    "df1.head()"
   ]
  },
  {
   "cell_type": "code",
   "execution_count": 6,
   "metadata": {},
   "outputs": [
    {
     "name": "stdout",
     "output_type": "stream",
     "text": [
      "The first row of the trial experiment 0\n",
      "[-0.114776  0.439484 -0.700906 -0.694898  1.077169  1.150464  0.073693\n",
      "  1.636875  0.559617 -1.85894   2.150135 -0.256785 -0.729854  0.786804\n",
      " -0.229297 -1.041701  0.488485  0.869405]\n",
      "The target for the trial experiment 0\n",
      "[ 1.  0.]\n",
      "\n",
      "The first row of the trial experiment 5\n",
      "[ 0.247633 -0.314106 -0.22799   0.399076  0.434287 -0.103136  0.182777\n",
      " -2.316515  4.607624  0.090366 -0.229647 -0.274152 -0.118235  0.070525\n",
      "  0.065246 -2.501649 -1.409344  0.614023]\n",
      "The target for the trial experiment 5\n",
      "[ 0.  1.]\n",
      "\n",
      "The first row of the trial experiment 10\n",
      "[ 0.06957  -0.053842 -0.671361 -0.884662 -0.087146  0.641166  0.518448\n",
      " -1.077423  2.031714 -0.244218  0.235017  0.184547 -0.378222  0.101676\n",
      " -0.034164  3.003549 -2.023913 -1.924938]\n",
      "The target for the trial experiment 10\n",
      "[ 0.  1.]\n",
      "\n"
     ]
    }
   ],
   "source": [
    "def convert_to_input(dfs):\n",
    "    '''Converts a list of data frames to a pair of lists of inputs and targets.\n",
    "    \n",
    "    :param dfs\n",
    "        A list of data frames, where each data frame contains sensor readings from the PowerDue and PowerSense.\n",
    "    :return\n",
    "        A pair of lists (inputs, targets), where\n",
    "        - each input in inputs is an array of the sensor readings for one experiment.\n",
    "        - each target in targets is a vector of length two, where\n",
    "          - [1, 0] represents a target where the PowerDue and mobile phone share context.\n",
    "          - [0, 1] represents a target where the PowerDue and mobile phone do not share context.\n",
    "    '''\n",
    "    assert dfs, 'dfs cannot be empty'\n",
    "    values = []\n",
    "    targets = []\n",
    "    cols = dfs[0].columns\n",
    "    value_cols = cols[:-2]\n",
    "    target_cols = cols[-2:]\n",
    "    for df in dfs:\n",
    "        value = df[value_cols].values\n",
    "        target = df.iloc[0][target_cols].values\n",
    "        values.append(value)\n",
    "        targets.append(target)\n",
    "    return values, targets     \n",
    "\n",
    "inputs, targets = convert_to_input(dfs)\n",
    "for i in range(0, len(inputs), 5):\n",
    "    value, target = inputs[i], targets[i]\n",
    "    print('The first row of the trial experiment %d' % i)\n",
    "    print(value[0, :])\n",
    "    print('The target for the trial experiment %d' %i)\n",
    "    print(target)\n",
    "    print()"
   ]
  },
  {
   "cell_type": "code",
   "execution_count": 7,
   "metadata": {},
   "outputs": [
    {
     "name": "stdout",
     "output_type": "stream",
     "text": [
      "All arrays have 2431 rows\n"
     ]
    }
   ],
   "source": [
    "def normalize_rows(data):\n",
    "    '''Normalizes the rows in data by making them have the same number of rows.\n",
    "    \n",
    "    The number of rows that for each array will be the average number of rows.\n",
    "    If an array has less rows then needed, then the last row is repeated until\n",
    "    the array has the correct number of rows. If the array has more rows than\n",
    "    needed, then the last rows are dropped.\n",
    "    \n",
    "    :param data\n",
    "        A list of arrays\n",
    "    :return\n",
    "        A list of arrays with the same number of rows.\n",
    "    '''\n",
    "    assert len(data) != 0, 'cannot divide by zero'\n",
    "    rows_mean = int(sum(arr.shape[0] for arr in data) / len(data))\n",
    "    new_data = []\n",
    "    for arr in data:\n",
    "        rows = arr.shape[0]\n",
    "        if rows > rows_mean:\n",
    "            new_data.append(arr[:rows_mean, :])\n",
    "        elif rows < rows_mean:\n",
    "            diff_rows = rows_mean - rows\n",
    "            # Repeat the last row\n",
    "            arr_repeat = numpy.tile(arr[-1,:], (diff_rows, 1))\n",
    "            new_arr = numpy.append(arr, arr_repeat, axis=0)\n",
    "            new_data.append(new_arr)\n",
    "        else:\n",
    "            new_data.append(arr)\n",
    "    return new_data\n",
    "\n",
    "# Verify that all arrays have same number of rows\n",
    "norm_rows_data = normalize_rows(inputs)\n",
    "rows_num = norm_rows_data[0].shape[0]\n",
    "assert all(rows_num == arr.shape[0] for arr in norm_rows_data), \\\n",
    "    'not all arrays have the same number of rows'\n",
    "print('All arrays have {} rows'.format(rows_num))"
   ]
  },
  {
   "cell_type": "code",
   "execution_count": 8,
   "metadata": {},
   "outputs": [
    {
     "name": "stdout",
     "output_type": "stream",
     "text": [
      "xform_data.shape: (15, 2431, 18, 1)\n",
      "input_shape: (2431, 18, 1)\n"
     ]
    }
   ],
   "source": [
    "def reshape_data(data):\n",
    "    '''Reshapes 2d arrays into 3d arrays.\n",
    "    \n",
    "    :param data\n",
    "        A list of 2d numpy arrays\n",
    "    :return\n",
    "        A list of 3d numpy arrays and a tuple of input parameters that can be fed to a Keras layer.\n",
    "    '''\n",
    "    new_data = numpy.array(data)\n",
    "    samples, rows, cols = new_data.shape\n",
    "    if K.image_data_format() == 'channels_first':\n",
    "        new_data = new_data.reshape(samples, 1, rows, cols)\n",
    "        input_shape = (1, rows, cols)\n",
    "    else:\n",
    "        new_data = new_data.reshape(samples, rows, cols, 1)\n",
    "        input_shape = (rows, cols, 1) \n",
    "    return input_shape, new_data\n",
    "\n",
    "input_shape, xform_data = reshape_data(norm_rows_data)\n",
    "print('xform_data.shape:', xform_data.shape)\n",
    "print('input_shape:', input_shape)"
   ]
  },
  {
   "cell_type": "code",
   "execution_count": 9,
   "metadata": {},
   "outputs": [],
   "source": [
    "def create_model(input_shape):\n",
    "    '''Creates an uncompiled neural net model.\n",
    "    \n",
    "    :return\n",
    "        An uncompiled neural net model.\n",
    "    '''\n",
    "    model = Sequential()\n",
    "    model.add(Conv2D(32, kernel_size=(3, 3),\n",
    "                 activation='relu',\n",
    "                 input_shape=input_shape))\n",
    "    model.add(Conv2D(64, (3, 3), activation='relu'))\n",
    "    model.add(MaxPooling2D(pool_size=(2, 2)))\n",
    "    model.add(Dropout(0.25))\n",
    "    model.add(Flatten())\n",
    "    model.add(Dense(128, activation='relu'))\n",
    "    model.add(Dropout(0.5))\n",
    "    model.add(Dense(2, activation='softmax'))\n",
    "    return model"
   ]
  },
  {
   "cell_type": "code",
   "execution_count": 10,
   "metadata": {},
   "outputs": [],
   "source": [
    "arr_targets = numpy.array(targets)\n",
    "arr_inputs = xform_data"
   ]
  },
  {
   "cell_type": "code",
   "execution_count": 11,
   "metadata": {},
   "outputs": [
    {
     "name": "stdout",
     "output_type": "stream",
     "text": [
      "score= [1.1920930376163597e-07, 1.0] GUESSED RIGHT!!!\n",
      "score= [1.1920930376163597e-07, 1.0] GUESSED RIGHT!!!\n",
      "score= [1.1920930376163597e-07, 1.0] GUESSED RIGHT!!!\n",
      "score= [16.118095397949219, 0.0] WRONG!!!\n",
      "score= [0.005261649377644062, 1.0] GUESSED RIGHT!!!\n",
      "score= [16.118095397949219, 0.0] WRONG!!!\n",
      "score= [16.118095397949219, 0.0] WRONG!!!\n",
      "score= [1.1920930376163597e-07, 1.0] GUESSED RIGHT!!!\n",
      "score= [1.1920930376163597e-07, 1.0] GUESSED RIGHT!!!\n",
      "score= [16.118095397949219, 0.0] WRONG!!!\n",
      "score= [16.118095397949219, 0.0] WRONG!!!\n",
      "score= [16.118095397949219, 0.0] WRONG!!!\n",
      "score= [1.1920930376163597e-07, 1.0] GUESSED RIGHT!!!\n",
      "score= [1.1920930376163597e-07, 1.0] GUESSED RIGHT!!!\n",
      "score= [16.118095397949219, 0.0] WRONG!!!\n"
     ]
    }
   ],
   "source": [
    "# Compile the neural net\n",
    "nsamples = arr_inputs.shape[0]\n",
    "seed = 7\n",
    "numpy.random.seed(seed)\n",
    "zeros = numpy.zeros(nsamples)\n",
    "# Leave one out k-fold cross validation\n",
    "kfold = StratifiedKFold(n_splits=nsamples, shuffle=True, random_state=seed)\n",
    "scores = []\n",
    "for train, test in kfold.split(zeros, zeros):\n",
    "    model = create_model(input_shape)\n",
    "    # Compile model\n",
    "    model.compile(optimizer='rmsprop', loss='categorical_crossentropy', metrics=['accuracy'])\n",
    "    train_inputs = arr_inputs[train]\n",
    "    train_targets = arr_targets[train]\n",
    "    model.fit(train_inputs, train_targets, epochs=20, batch_size=10, verbose=0)\n",
    "    test_input = arr_inputs[test]\n",
    "    test_target = arr_targets[test]\n",
    "    score_tuple = model.evaluate(test_input, test_target, verbose=0)\n",
    "    score = int(score_tuple[1])\n",
    "    print('score=', score_tuple, 'GUESSED RIGHT!!!' if score else 'WRONG!!!')\n",
    "    scores.append((test[0], score))"
   ]
  },
  {
   "cell_type": "code",
   "execution_count": 12,
   "metadata": {},
   "outputs": [
    {
     "name": "stdout",
     "output_type": "stream",
     "text": [
      "Scores: [(0, 0), (1, 0), (2, 0), (3, 0), (4, 0), (5, 1), (6, 1), (7, 0), (8, 1), (9, 1), (10, 1), (11, 0), (12, 1), (13, 1), (14, 1)]\n",
      "Guessed 8/15 correct\n"
     ]
    }
   ],
   "source": [
    "# See which experiment trials are predicted correctly (i.e., second element is 1)\n",
    "scores.sort()\n",
    "print('Scores:', scores)\n",
    "correct = sum(guess for _, guess in scores)\n",
    "print('Guessed {}/{} correct'.format(correct, len(scores)))"
   ]
  },
  {
   "cell_type": "code",
   "execution_count": 16,
   "metadata": {},
   "outputs": [],
   "source": [
    "# Gather results to plot predictions against actual data\n",
    "\n",
    "x = list(range(1,len(scores)+1))\n",
    "\n",
    "y_hat, y = [], []\n",
    "for i, s in scores:\n",
    "    if i < 5:\n",
    "        actual = 1\n",
    "        guess = 1 if s else 0\n",
    "    else:\n",
    "        guess = 0 if s else 1\n",
    "        actual = 0\n",
    "    y_hat.append(guess)\n",
    "    y.append(actual)"
   ]
  },
  {
   "cell_type": "code",
   "execution_count": 17,
   "metadata": {},
   "outputs": [
    {
     "data": {
      "image/png": "[encoded data removed]",
      "text/plain": [
       "<matplotlib.figure.Figure at 0x7f0a1ce89710>"
      ]
     },
     "metadata": {},
     "output_type": "display_data"
    }
   ],
   "source": [
    "%matplotlib inline\n",
    "import matplotlib.pyplot as plt\n",
    "\n",
    "plt.subplot(1, 2, 1)\n",
    "plt.plot(x, y_hat, 'ko')\n",
    "plt.title('Context prediction')\n",
    "plt.xlabel('Experiment#')\n",
    "plt.ylabel('Prediction')\n",
    "\n",
    "plt.subplot(1, 2, 2)\n",
    "plt.plot(x, y, 'r.')\n",
    "plt.title('Actual context')\n",
    "plt.xlabel('Experiment#')\n",
    "plt.ylabel('Data')\n",
    "\n",
    "plt.tight_layout()\n",
    "plt.savefig('prediction_vs_actual.png')\n",
    "plt.show()"
   ]
  }
 ],
 "metadata": {
  "kernelspec": {
   "display_name": "Python 3",
   "language": "python",
   "name": "python3"
  },
  "language_info": {
   "codemirror_mode": {
    "name": "ipython",
    "version": 3
   },
   "file_extension": ".py",
   "mimetype": "text/x-python",
   "name": "python",
   "nbconvert_exporter": "python",
   "pygments_lexer": "ipython3",
   "version": "3.6.3"
  }
 },
 "nbformat": 4,
 "nbformat_minor": 2
}
